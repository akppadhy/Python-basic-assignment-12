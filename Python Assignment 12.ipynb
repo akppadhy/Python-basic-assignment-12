{
 "cells": [
  {
   "cell_type": "code",
   "execution_count": null,
   "id": "320a7e7e-2a52-4029-84b1-d5ba6fdf06f2",
   "metadata": {},
   "outputs": [],
   "source": [
    "#1. In what modes should the PdfFileReader() and PdfFileWriter() File objects will be opened?\n",
    "\n",
    "Ans. PdfFileReader() needs to be opened in read-binary mode by passing 'rb' as the second argument to open(). \n",
    "Likewise, the File object passed to PyPDF2. PdfFileWriter() needs to be opened in write-binary mode with 'wb'."
   ]
  },
  {
   "cell_type": "code",
   "execution_count": null,
   "id": "a70c71a8-f647-4332-a73e-91fbd86c00f1",
   "metadata": {},
   "outputs": [],
   "source": [
    "#2. From a PdfFileReader object, how do you get a Page object for page 5?\n",
    "\n",
    "Ans. Calling getPage(4) will return a page object for page 5, since page 0 is the first page."
   ]
  },
  {
   "cell_type": "code",
   "execution_count": null,
   "id": "2f048d2e-d49b-467c-99c6-1029869be8bc",
   "metadata": {},
   "outputs": [],
   "source": [
    "#3. What PdfFileReader variable stores the number of pages in the PDF document?\n",
    "\n",
    "Ans. The total number of pages in the document is stored in the numPages variable of a PdfFileReader object."
   ]
  },
  {
   "cell_type": "code",
   "execution_count": null,
   "id": "6b4b0c76-caab-45cb-a4fc-a587a2a4a24d",
   "metadata": {},
   "outputs": [],
   "source": [
    "#4. If a PdfFileReader object’s PDF is encrypted with the password swordfish, what must you do before you can obtain Page objects from it?\n",
    "\n",
    "Ans. To read an encrypted PDF, call the decrypt() function and pass the password as a string, in our case it is swordfish. \n",
    "After we call decrypt() with the correct password, you’ll see that calling getPage() no longer causes an error. Call decrypt('swordfish')."
   ]
  },
  {
   "cell_type": "code",
   "execution_count": null,
   "id": "85ef0774-2f3d-41c0-b6d1-cc202be66847",
   "metadata": {},
   "outputs": [],
   "source": [
    "#5. What methods do you use to rotate a page?\n",
    "\n",
    "Ans. The pages of a PDF can be rotated in 90-degree increments with the rotateClockwise() and rotateCounterClockwise() methods."
   ]
  },
  {
   "cell_type": "code",
   "execution_count": null,
   "id": "711fc123-be9d-48fd-9959-8ddcc7f8d457",
   "metadata": {},
   "outputs": [],
   "source": [
    "#6. What is the difference between a Run object and a Paragraph object?\n",
    "\n",
    "Ans. A document contains multiple paragraphs. A paragraph begins on a new line and contains multiple runs. \n",
    "Runs are contiguous groups of charecters within a paragraph.\n"
   ]
  },
  {
   "cell_type": "code",
   "execution_count": null,
   "id": "3d624c47-493d-4726-8a99-a09a13bb76b3",
   "metadata": {},
   "outputs": [],
   "source": [
    "#7. How do you obtain a list of Paragraph objects for a Document object that’s stored in a variable named doc?\n",
    "\n",
    "Ans. len(doc.paragraphs)\n"
   ]
  },
  {
   "cell_type": "code",
   "execution_count": null,
   "id": "d187e69c-bbfb-46ae-8f79-511506af651f",
   "metadata": {},
   "outputs": [],
   "source": [
    "#8. What type of object has bold, underline, italic, strike, and outline variables?\n",
    "\n",
    "Ans. Run Object"
   ]
  },
  {
   "cell_type": "code",
   "execution_count": null,
   "id": "9952b0d5-b014-4e72-bea1-45d50431e87d",
   "metadata": {},
   "outputs": [],
   "source": [
    "#9. What is the difference between False, True, and None for the bold variable?\n",
    "\n",
    "Ans. True always makes the run object bolded and False makes it always not bolded, no matter what the style's bold settings is. \n",
    "None will make the Run object just use the style's bold settings."
   ]
  },
  {
   "cell_type": "code",
   "execution_count": null,
   "id": "0166aa67-ca7b-431d-a9a4-bdb5d7f36429",
   "metadata": {},
   "outputs": [],
   "source": [
    "#10. How do you create a Document object for a new Word document?\n",
    "\n",
    "Ans.mydoc = docx.Document()"
   ]
  },
  {
   "cell_type": "code",
   "execution_count": null,
   "id": "0db0320a-dbaf-4c49-8e7d-917856f620ff",
   "metadata": {},
   "outputs": [],
   "source": [
    "#11. How do you add a paragraph with the text 'Hello, there!' to a Document object stored in a variable named doc?\n",
    "\n",
    "Ans. doc.add_paragraph('Hello, there!')"
   ]
  },
  {
   "cell_type": "code",
   "execution_count": null,
   "id": "1873d7e1-8f12-4f6b-ba70-951d7a4014a9",
   "metadata": {},
   "outputs": [],
   "source": [
    "#12. What integers represent the levels of headings available in Word documents?\n",
    "\n",
    "Ans. The arguments to add_heading() are a string of the heading text and an integer from 0 to 4. The integer 0 makes the heading the Title style, which is used for the top of the document. \n",
    "Integers 1 to 4 are for various heading levels, with 1 being the main heading and 4 the lowest subheading. \n",
    "The add_heading() function returns a Paragraph object to save you the step of extracting it from the Document object as a separate step."
   ]
  }
 ],
 "metadata": {
  "kernelspec": {
   "display_name": "Python 3 (ipykernel)",
   "language": "python",
   "name": "python3"
  },
  "language_info": {
   "codemirror_mode": {
    "name": "ipython",
    "version": 3
   },
   "file_extension": ".py",
   "mimetype": "text/x-python",
   "name": "python",
   "nbconvert_exporter": "python",
   "pygments_lexer": "ipython3",
   "version": "3.10.6"
  }
 },
 "nbformat": 4,
 "nbformat_minor": 5
}
